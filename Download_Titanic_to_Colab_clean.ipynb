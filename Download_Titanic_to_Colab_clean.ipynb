{
  "nbformat": 4,
  "nbformat_minor": 0,
  "metadata": {
    "colab": {
      "provenance": [],
      "authorship_tag": "ABX9TyP+9pAyJB0K3xA0XD9qce4i",
      "include_colab_link": true
    },
    "kernelspec": {
      "name": "python3",
      "display_name": "Python 3"
    },
    "language_info": {
      "name": "python"
    }
  },
  "cells": [
    {
      "cell_type": "markdown",
      "metadata": {
        "id": "view-in-github",
        "colab_type": "text"
      },
      "source": [
        "<a href=\"https://colab.research.google.com/github/Teacher-Heiko/course22/blob/master/Download_Titanic_to_Colab_clean.ipynb\" target=\"_parent\"><img src=\"https://colab.research.google.com/assets/colab-badge.svg\" alt=\"Open In Colab\"/></a>"
      ]
    },
    {
      "cell_type": "markdown",
      "source": [
        "###Showing the fast way and further below the old way"
      ],
      "metadata": {
        "id": "gos6mp6QM4aV"
      }
    },
    {
      "cell_type": "markdown",
      "source": [
        "see https://pypi.org/project/fastkaggle/"
      ],
      "metadata": {
        "id": "Yb9Jy-2dNJUc"
      }
    },
    {
      "cell_type": "code",
      "source": [
        "# unrelated, but this is how Jeremy nowadays starts a notebook with many commonly used imports easily available\n",
        "# see https://github.com/fastai/fastai/blob/master/fastai/imports.py\n",
        "\n",
        "from fastai.imports import *"
      ],
      "metadata": {
        "id": "VUSoD6h5P6oU"
      },
      "execution_count": 1,
      "outputs": []
    },
    {
      "cell_type": "code",
      "source": [],
      "metadata": {
        "id": "syGFlXSvmUCP"
      },
      "execution_count": null,
      "outputs": []
    },
    {
      "cell_type": "markdown",
      "source": [],
      "metadata": {
        "id": "qgQCdo-Vmp47"
      }
    },
    {
      "cell_type": "markdown",
      "source": [
        "You need an API key to use the Kaggle API; to get one, click on your profile picture on the Kaggle website, and choose My Account, then click Create New API Token. This will save a file called kaggle.json to your computer. You need to copy this key to your server. To do so, open the file you downloaded, copy the contents, and paste them in the following cell (e.g., `api_token = '{\"username\":\"xxx\",\"key\":\"xxx\"}')`"
      ],
      "metadata": {
        "id": "ytxIuIbQmM5Z"
      }
    },
    {
      "cell_type": "code",
      "source": [
        "!rm -r ~/.kaggle\n",
        "!mkdir ~/.kaggle\n",
        "!touch ~/.kaggle/kaggle.json\n",
        "\n",
        "############## *YOUR* API KEY for this competition  ###########################\n",
        "api_token = {\"username\":\"teacherh\",\"key\":\"937525aea6cf995a69c5bb25374d6bb5\"}\n",
        "###############################################################################\n",
        "import json\n",
        "\n",
        "with open('/root/.kaggle/kaggle.json', 'w') as file:\n",
        "    json.dump(api_token, file)\n",
        "\n",
        "!chmod 600 ~/.kaggle/kaggle.json\n"
      ],
      "metadata": {
        "id": "_RwjzklkPcuH",
        "outputId": "52d0f4b4-05fd-4d4c-b473-a44182b87b35",
        "colab": {
          "base_uri": "https://localhost:8080/"
        }
      },
      "execution_count": 2,
      "outputs": [
        {
          "output_type": "stream",
          "name": "stdout",
          "text": [
            "rm: cannot remove '/root/.kaggle': No such file or directory\n"
          ]
        }
      ]
    },
    {
      "cell_type": "code",
      "source": [
        "!ls ~/.kaggle"
      ],
      "metadata": {
        "colab": {
          "base_uri": "https://localhost:8080/"
        },
        "outputId": "d952a03b-4928-4331-a0cf-cdde431afa6f",
        "id": "yGejq4DhPvlF"
      },
      "execution_count": 3,
      "outputs": [
        {
          "output_type": "stream",
          "name": "stdout",
          "text": [
            "kaggle.json\n"
          ]
        }
      ]
    },
    {
      "cell_type": "code",
      "source": [
        "# install fastkaggle if not available\n",
        "try: import fastkaggle\n",
        "except ModuleNotFoundError:\n",
        "    !pip install -Uq fastkaggle\n",
        "\n",
        "from fastkaggle import *"
      ],
      "metadata": {
        "id": "VMscWjMKNIeb"
      },
      "execution_count": 4,
      "outputs": []
    },
    {
      "cell_type": "code",
      "source": [
        "path = setup_comp('titanic')"
      ],
      "metadata": {
        "id": "fS9USefxOD03",
        "colab": {
          "base_uri": "https://localhost:8080/"
        },
        "outputId": "5de1bc07-cf77-4d70-b83c-be681dfd59c3"
      },
      "execution_count": 5,
      "outputs": [
        {
          "output_type": "stream",
          "name": "stdout",
          "text": [
            "Downloading titanic.zip to /content\n"
          ]
        },
        {
          "output_type": "stream",
          "name": "stderr",
          "text": [
            "100%|██████████| 34.1k/34.1k [00:00<00:00, 12.2MB/s]"
          ]
        },
        {
          "output_type": "stream",
          "name": "stdout",
          "text": [
            "\n"
          ]
        },
        {
          "output_type": "stream",
          "name": "stderr",
          "text": [
            "\n"
          ]
        }
      ]
    },
    {
      "cell_type": "code",
      "source": [
        "path.ls()"
      ],
      "metadata": {
        "id": "FMQp_A0iUvda",
        "outputId": "3d98abea-6020-42f8-8f8c-7d1bf66f4adc",
        "colab": {
          "base_uri": "https://localhost:8080/"
        }
      },
      "execution_count": 6,
      "outputs": [
        {
          "output_type": "execute_result",
          "data": {
            "text/plain": [
              "(#3) [Path('titanic/test.csv'),Path('titanic/gender_submission.csv'),Path('titanic/train.csv')]"
            ]
          },
          "metadata": {},
          "execution_count": 6
        }
      ]
    },
    {
      "cell_type": "markdown",
      "source": [
        "### The old way, several different methods are used by people, see https://www.kaggle.com/discussions/general/74235"
      ],
      "metadata": {
        "id": "eb8YucjuNOIw"
      }
    },
    {
      "cell_type": "code",
      "execution_count": 7,
      "metadata": {
        "id": "RQ2032PQ8Kdb"
      },
      "outputs": [],
      "source": [
        "import os\n",
        "from pathlib import Path"
      ]
    },
    {
      "cell_type": "code",
      "source": [
        "!rm -r ~/.kaggle\n",
        "!mkdir ~/.kaggle\n",
        "!touch ~/.kaggle/kaggle.json\n",
        "############## *YOUR* API KEY for this competition  ###########################\n",
        "api_token = {\"username\":\"teacherh\",\"key\":\"937525aea6cf995a69c5bb25374d6bb5\"}\n",
        "###############################################################################\n",
        "import json\n",
        "\n",
        "with open('/root/.kaggle/kaggle.json', 'w') as file:\n",
        "    json.dump(api_token, file)\n",
        "\n",
        "!chmod 600 ~/.kaggle/kaggle.json\n"
      ],
      "metadata": {
        "id": "OPRxHkKX9eSa"
      },
      "execution_count": 8,
      "outputs": []
    },
    {
      "cell_type": "code",
      "source": [
        "!ls ~/.kaggle"
      ],
      "metadata": {
        "colab": {
          "base_uri": "https://localhost:8080/"
        },
        "id": "LRD99DzDEDcJ",
        "outputId": "fc0cf640-7e19-41d9-a268-b9a21fddd71a"
      },
      "execution_count": 9,
      "outputs": [
        {
          "output_type": "stream",
          "name": "stdout",
          "text": [
            "kaggle.json\n"
          ]
        }
      ]
    },
    {
      "cell_type": "code",
      "source": [
        "#  ! kaggle datasets list"
      ],
      "metadata": {
        "id": "TqtddphEBfT4"
      },
      "execution_count": 10,
      "outputs": []
    },
    {
      "cell_type": "code",
      "source": [
        "!kaggle competitions download -c titanic"
      ],
      "metadata": {
        "colab": {
          "base_uri": "https://localhost:8080/"
        },
        "id": "90VRjgY5_VYX",
        "outputId": "98907471-bc39-4eaa-8ffc-9ff8e5bc2081"
      },
      "execution_count": 11,
      "outputs": [
        {
          "output_type": "stream",
          "name": "stdout",
          "text": [
            "titanic.zip: Skipping, found more recently modified local copy (use --force to force download)\n"
          ]
        }
      ]
    },
    {
      "cell_type": "code",
      "source": [
        "!ls /content"
      ],
      "metadata": {
        "colab": {
          "base_uri": "https://localhost:8080/"
        },
        "id": "7ZqyaGK2ENd3",
        "outputId": "fe39ffd3-4358-49c1-fc13-30f57d4032cf"
      },
      "execution_count": 12,
      "outputs": [
        {
          "output_type": "stream",
          "name": "stdout",
          "text": [
            "sample_data  titanic  titanic.zip\n"
          ]
        }
      ]
    },
    {
      "cell_type": "code",
      "source": [
        "path = Path('titanic')\n",
        "if not path.exists():\n",
        "  import zipfile,kaggle\n",
        "  # kaggle.api.competition_download_cli(str(path))\n",
        "  zipfile.ZipFile(f'{path}.zip').extractall(path)"
      ],
      "metadata": {
        "id": "UMdPY1Ne_YHf"
      },
      "execution_count": 13,
      "outputs": []
    },
    {
      "cell_type": "code",
      "source": [
        "!ls /content/titanic/"
      ],
      "metadata": {
        "id": "mcVxBedGIihx",
        "outputId": "598b835d-3533-4a1c-8493-708d3725f5ad",
        "colab": {
          "base_uri": "https://localhost:8080/"
        }
      },
      "execution_count": 14,
      "outputs": [
        {
          "output_type": "stream",
          "name": "stdout",
          "text": [
            "gender_submission.csv  test.csv  train.csv\n"
          ]
        }
      ]
    }
  ]
}