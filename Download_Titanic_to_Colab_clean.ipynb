{
  "nbformat": 4,
  "nbformat_minor": 0,
  "metadata": {
    "colab": {
      "provenance": [],
      "authorship_tag": "ABX9TyPJKSOkoea4OWqyPMeV9b6y",
      "include_colab_link": true
    },
    "kernelspec": {
      "name": "python3",
      "display_name": "Python 3"
    },
    "language_info": {
      "name": "python"
    }
  },
  "cells": [
    {
      "cell_type": "markdown",
      "metadata": {
        "id": "view-in-github",
        "colab_type": "text"
      },
      "source": [
        "<a href=\"https://colab.research.google.com/github/Teacher-Heiko/course22/blob/master/Download_Titanic_to_Colab_clean.ipynb\" target=\"_parent\"><img src=\"https://colab.research.google.com/assets/colab-badge.svg\" alt=\"Open In Colab\"/></a>"
      ]
    },
    {
      "cell_type": "markdown",
      "source": [
        "###Showing the fast way and further below the old way"
      ],
      "metadata": {
        "id": "gos6mp6QM4aV"
      }
    },
    {
      "cell_type": "markdown",
      "source": [
        "see https://pypi.org/project/fastkaggle/"
      ],
      "metadata": {
        "id": "Yb9Jy-2dNJUc"
      }
    },
    {
      "cell_type": "code",
      "source": [
        "# unrelated, but this is how Jeremy nowadays starts a notebook with many commonly used imports easily available\n",
        "# see https://github.com/fastai/fastai/blob/master/fastai/imports.py\n",
        "\n",
        "from fastai.imports import *"
      ],
      "metadata": {
        "id": "VUSoD6h5P6oU"
      },
      "execution_count": null,
      "outputs": []
    },
    {
      "cell_type": "code",
      "source": [
        "# install fastkaggle if not available\n",
        "try: import fastkaggle\n",
        "except ModuleNotFoundError:\n",
        "    !pip install -Uq fastkaggle\n",
        "\n",
        "from fastkaggle import *"
      ],
      "metadata": {
        "id": "VMscWjMKNIeb"
      },
      "execution_count": 1,
      "outputs": []
    },
    {
      "cell_type": "code",
      "source": [
        "!rm -r ~/.kaggle\n",
        "!mkdir ~/.kaggle\n",
        "!touch ~/.kaggle/kaggle.json\n",
        "############## *YOUR* API KEY for this competition  ###########################\n",
        "api_token = {\"username\":\"teacherh\",\"key\":\"937525aea6cf995a69c5bb25374d6bb5\"}\n",
        "###############################################################################\n",
        "import json\n",
        "\n",
        "with open('/root/.kaggle/kaggle.json', 'w') as file:\n",
        "    json.dump(api_token, file)\n",
        "\n",
        "!chmod 600 ~/.kaggle/kaggle.json\n"
      ],
      "metadata": {
        "id": "_RwjzklkPcuH",
        "outputId": "30bbc4ae-3b3e-43ce-8d97-ecb4e3873103",
        "colab": {
          "base_uri": "https://localhost:8080/"
        }
      },
      "execution_count": 2,
      "outputs": [
        {
          "output_type": "stream",
          "name": "stdout",
          "text": [
            "rm: cannot remove '/root/.kaggle': No such file or directory\n"
          ]
        }
      ]
    },
    {
      "cell_type": "code",
      "source": [
        "!ls ~/.kaggle"
      ],
      "metadata": {
        "colab": {
          "base_uri": "https://localhost:8080/"
        },
        "outputId": "2e87f7b3-76c4-4ad5-d22f-eff335c7b7c8",
        "id": "yGejq4DhPvlF"
      },
      "execution_count": 3,
      "outputs": [
        {
          "output_type": "stream",
          "name": "stdout",
          "text": [
            "kaggle.json\n"
          ]
        }
      ]
    },
    {
      "cell_type": "code",
      "source": [
        "path = setup_comp('titanic')\n",
        "# path = Path('titanic')"
      ],
      "metadata": {
        "id": "fS9USefxOD03",
        "colab": {
          "base_uri": "https://localhost:8080/"
        },
        "outputId": "3779bd9c-8071-4561-8d7a-5d8b325f6f2d"
      },
      "execution_count": 4,
      "outputs": [
        {
          "output_type": "stream",
          "name": "stdout",
          "text": [
            "Downloading titanic.zip to /content\n"
          ]
        },
        {
          "output_type": "stream",
          "name": "stderr",
          "text": [
            "100%|██████████| 34.1k/34.1k [00:00<00:00, 26.6MB/s]"
          ]
        },
        {
          "output_type": "stream",
          "name": "stdout",
          "text": [
            "\n"
          ]
        },
        {
          "output_type": "stream",
          "name": "stderr",
          "text": [
            "\n"
          ]
        }
      ]
    },
    {
      "cell_type": "code",
      "source": [
        "path.ls()"
      ],
      "metadata": {
        "id": "FMQp_A0iUvda",
        "outputId": "776b9ba4-79cd-40cd-ac40-d80e1595f976",
        "colab": {
          "base_uri": "https://localhost:8080/"
        }
      },
      "execution_count": 5,
      "outputs": [
        {
          "output_type": "execute_result",
          "data": {
            "text/plain": [
              "(#3) [Path('titanic/gender_submission.csv'),Path('titanic/test.csv'),Path('titanic/train.csv')]"
            ]
          },
          "metadata": {},
          "execution_count": 5
        }
      ]
    },
    {
      "cell_type": "markdown",
      "source": [
        "### The old way, several different methods are used by people, see https://www.kaggle.com/discussions/general/74235"
      ],
      "metadata": {
        "id": "eb8YucjuNOIw"
      }
    },
    {
      "cell_type": "code",
      "execution_count": null,
      "metadata": {
        "id": "RQ2032PQ8Kdb"
      },
      "outputs": [],
      "source": [
        "import os\n",
        "from pathlib import Path"
      ]
    },
    {
      "cell_type": "code",
      "source": [
        "!rm -r ~/.kaggle\n",
        "!mkdir ~/.kaggle\n",
        "!touch ~/.kaggle/kaggle.json\n",
        "############## *YOUR* API KEY for this competition  ###########################\n",
        "api_token = {\"username\":\"teacherh\",\"key\":\"937525aea6cf995a69c5bb25374d6bb5\"}\n",
        "###############################################################################\n",
        "import json\n",
        "\n",
        "with open('/root/.kaggle/kaggle.json', 'w') as file:\n",
        "    json.dump(api_token, file)\n",
        "\n",
        "!chmod 600 ~/.kaggle/kaggle.json\n"
      ],
      "metadata": {
        "id": "OPRxHkKX9eSa"
      },
      "execution_count": null,
      "outputs": []
    },
    {
      "cell_type": "code",
      "source": [
        "!ls ~/.kaggle"
      ],
      "metadata": {
        "colab": {
          "base_uri": "https://localhost:8080/"
        },
        "id": "LRD99DzDEDcJ",
        "outputId": "b0ea2630-9e6f-4345-e51e-64108ebe6a81"
      },
      "execution_count": null,
      "outputs": [
        {
          "output_type": "stream",
          "name": "stdout",
          "text": [
            "kaggle.json\n"
          ]
        }
      ]
    },
    {
      "cell_type": "code",
      "source": [
        "#  ! kaggle datasets list"
      ],
      "metadata": {
        "id": "TqtddphEBfT4"
      },
      "execution_count": null,
      "outputs": []
    },
    {
      "cell_type": "code",
      "source": [
        "!kaggle competitions download -c titanic"
      ],
      "metadata": {
        "colab": {
          "base_uri": "https://localhost:8080/"
        },
        "id": "90VRjgY5_VYX",
        "outputId": "a533ee66-59e3-4a53-8791-b1293bfb683d"
      },
      "execution_count": null,
      "outputs": [
        {
          "output_type": "stream",
          "name": "stdout",
          "text": [
            "Downloading titanic.zip to /content\n",
            "\r  0% 0.00/34.1k [00:00<?, ?B/s]\n",
            "\r100% 34.1k/34.1k [00:00<00:00, 59.2MB/s]\n"
          ]
        }
      ]
    },
    {
      "cell_type": "code",
      "source": [
        "!ls /content"
      ],
      "metadata": {
        "colab": {
          "base_uri": "https://localhost:8080/"
        },
        "id": "7ZqyaGK2ENd3",
        "outputId": "bbda36c8-954a-4a5f-c5ad-99c7a7d42044"
      },
      "execution_count": null,
      "outputs": [
        {
          "output_type": "stream",
          "name": "stdout",
          "text": [
            "sample_data  titanic.zip\n"
          ]
        }
      ]
    },
    {
      "cell_type": "code",
      "source": [
        "path = Path('titanic')\n",
        "if not path.exists():\n",
        "  import zipfile,kaggle\n",
        "  # kaggle.api.competition_download_cli(str(path))\n",
        "  zipfile.ZipFile(f'{path}.zip').extractall(path)"
      ],
      "metadata": {
        "id": "UMdPY1Ne_YHf"
      },
      "execution_count": null,
      "outputs": []
    },
    {
      "cell_type": "code",
      "source": [
        "!ls /content/titanic/"
      ],
      "metadata": {
        "id": "mcVxBedGIihx",
        "outputId": "6c89facb-0949-41c6-a844-0cc7245be9bd",
        "colab": {
          "base_uri": "https://localhost:8080/"
        }
      },
      "execution_count": null,
      "outputs": [
        {
          "output_type": "stream",
          "name": "stdout",
          "text": [
            "gender_submission.csv  test.csv  train.csv\n"
          ]
        }
      ]
    }
  ]
}